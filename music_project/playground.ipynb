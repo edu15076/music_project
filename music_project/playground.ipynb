{
 "cells": [
  {
   "cell_type": "code",
   "execution_count": 74,
   "metadata": {
    "collapsed": true
   },
   "outputs": [],
   "source": [
    "import os\n",
    "import django\n",
    "os.environ.setdefault(\"DJANGO_SETTINGS_MODULE\", \"music_project.settings\")\n",
    "os.environ[\"DJANGO_ALLOW_ASYNC_UNSAFE\"] = \"true\"\n",
    "django.setup()"
   ]
  },
  {
   "cell_type": "code",
   "execution_count": 75,
   "outputs": [],
   "source": [
    "from music.models import *\n",
    "from datetime import datetime"
   ],
   "metadata": {
    "collapsed": false
   }
  },
  {
   "cell_type": "code",
   "execution_count": 76,
   "outputs": [
    {
     "name": "stdout",
     "output_type": "stream",
     "text": [
      "Kurt Krist Dave\n"
     ]
    }
   ],
   "source": [
    "kurt, _ = Musico.objects.get_or_create(nome='Kurt', genero='M')\n",
    "krist, _ = Musico.objects.get_or_create(nome='Krist', genero='M')\n",
    "dave, _ = Musico.objects.get_or_create(nome='Dave', genero='M')\n",
    "\n",
    "print(kurt, krist, dave)"
   ],
   "metadata": {
    "collapsed": false
   }
  },
  {
   "cell_type": "code",
   "execution_count": 77,
   "outputs": [
    {
     "name": "stdout",
     "output_type": "stream",
     "text": [
      "Rock\n"
     ]
    }
   ],
   "source": [
    "rock, _ = EstiloMusical.objects.get_or_create(nome='Rock')\n",
    "print(rock)"
   ],
   "metadata": {
    "collapsed": false
   }
  },
  {
   "cell_type": "code",
   "execution_count": 78,
   "outputs": [
    {
     "name": "stdout",
     "output_type": "stream",
     "text": [
      "Nirvana\n",
      "Kurt Krist Dave \n",
      "Rock\n"
     ]
    }
   ],
   "source": [
    "nirvana, _ = Banda.objects.get_or_create(nome='Nirvana', data_de_criacao=datetime(1987, 2, 8),\n",
    "                                      site='https://www.youtube.com/@nirvana', numero_de_premiacoes=12, estilo_musical=rock)\n",
    "nirvana.musicos.add(kurt, krist, dave)\n",
    "print(nirvana)\n",
    "for musico in nirvana.musicos.all():\n",
    "    print(musico, end=' ')\n",
    "\n",
    "print()\n",
    "print(nirvana.estilo_musical)"
   ],
   "metadata": {
    "collapsed": false
   }
  },
  {
   "cell_type": "code",
   "execution_count": 87,
   "outputs": [
    {
     "name": "stdout",
     "output_type": "stream",
     "text": [
      "Tony Bill Geezer Ozzy\n"
     ]
    }
   ],
   "source": [
    "tony, _ = Musico.objects.get_or_create(nome='Tony', genero='M')\n",
    "bill, _ = Musico.objects.get_or_create(nome='Bill', genero='M')\n",
    "geezer, _ = Musico.objects.get_or_create(nome='Geezer', genero='M')\n",
    "ozzy, _ = Musico.objects.get_or_create(nome='Ozzy', genero='M')\n",
    "print(tony, bill, geezer, ozzy)"
   ],
   "metadata": {
    "collapsed": false
   }
  },
  {
   "cell_type": "code",
   "execution_count": 80,
   "outputs": [
    {
     "name": "stdout",
     "output_type": "stream",
     "text": [
      "Black Sabbath\n",
      "Tony Geezer Ozzy Bill \n",
      "Rock\n"
     ]
    }
   ],
   "source": [
    "black_sabbath, _ = Banda.objects.get_or_create(nome='Black Sabbath', data_de_criacao=datetime(1968, 2, 8),\n",
    "                                          site='https://www.youtube.com/@blacksabbath',\n",
    "                                          numero_de_premiacoes=4, estilo_musical=rock)\n",
    "black_sabbath.musicos.add(tony, bill, geezer, ozzy)\n",
    "print(black_sabbath)\n",
    "for musico in black_sabbath.musicos.all():\n",
    "    print(musico, end=' ')\n",
    "\n",
    "print()\n",
    "print(black_sabbath.estilo_musical)"
   ],
   "metadata": {
    "collapsed": false
   }
  },
  {
   "cell_type": "code",
   "execution_count": 81,
   "outputs": [],
   "source": [
    "courtney, _ = Musico.objects.get_or_create(nome='Courtney', genero='F')\n",
    "eric, _ = Musico.objects.get_or_create(nome='Eric', genero='M')"
   ],
   "metadata": {
    "collapsed": false
   }
  },
  {
   "cell_type": "code",
   "execution_count": 82,
   "outputs": [
    {
     "name": "stdout",
     "output_type": "stream",
     "text": [
      "Hole\n",
      "Courtney Eric \n",
      "Rock\n"
     ]
    }
   ],
   "source": [
    "hole, _ = Banda.objects.get_or_create(nome='Hole', data_de_criacao=datetime(1989, 2, 8),\n",
    "                                  site='https://www.youtube.com/@HoleVEVO',\n",
    "                                  numero_de_premiacoes=1, estilo_musical=rock)\n",
    "\n",
    "hole.musicos.add(courtney, eric)\n",
    "print(hole)\n",
    "for musico in hole.musicos.all():\n",
    "    print(musico, end=' ')\n",
    "\n",
    "print()\n",
    "print(hole.estilo_musical)"
   ],
   "metadata": {
    "collapsed": false
   }
  },
  {
   "cell_type": "code",
   "execution_count": 83,
   "outputs": [
    {
     "name": "stdout",
     "output_type": "stream",
     "text": [
      "Nirvana: Kurt; Krist; Dave; \n",
      "Black Sabbath: Tony; Geezer; Ozzy; Bill; \n",
      "Hole: Courtney; Eric; \n"
     ]
    }
   ],
   "source": [
    "for banda in EstiloMusical.objects.get(nome='Rock').banda_set.all():\n",
    "    print(banda, end=': ')  # (3)\n",
    "    for musico in banda.musicos.all():  # (4)\n",
    "        print(musico, end='; ')\n",
    "    print()"
   ],
   "metadata": {
    "collapsed": false
   }
  },
  {
   "cell_type": "code",
   "execution_count": 84,
   "outputs": [],
   "source": [
    "# bill.delete()\n",
    "# nirvana.nome = 'Skid Row'"
   ],
   "metadata": {
    "collapsed": false
   }
  },
  {
   "cell_type": "code",
   "execution_count": 85,
   "outputs": [
    {
     "data": {
      "text/plain": "'Nirvana'"
     },
     "execution_count": 85,
     "metadata": {},
     "output_type": "execute_result"
    }
   ],
   "source": [
    "nirvana.nome"
   ],
   "metadata": {
    "collapsed": false
   }
  },
  {
   "cell_type": "code",
   "execution_count": 85,
   "outputs": [],
   "source": [],
   "metadata": {
    "collapsed": false
   }
  }
 ],
 "metadata": {
  "kernelspec": {
   "display_name": "Python 3",
   "language": "python",
   "name": "python3"
  },
  "language_info": {
   "codemirror_mode": {
    "name": "ipython",
    "version": 2
   },
   "file_extension": ".py",
   "mimetype": "text/x-python",
   "name": "python",
   "nbconvert_exporter": "python",
   "pygments_lexer": "ipython2",
   "version": "2.7.6"
  }
 },
 "nbformat": 4,
 "nbformat_minor": 0
}
